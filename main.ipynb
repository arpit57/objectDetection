{
 "cells": [
  {
   "cell_type": "code",
   "execution_count": 3,
   "id": "ad9280c5-3d05-4b78-8c12-52ef4c99c6e5",
   "metadata": {
    "tags": []
   },
   "outputs": [
    {
     "name": "stderr",
     "output_type": "stream",
     "text": [
      "\n",
      "0: 640x480 1 person, 1374.8ms\n",
      "Speed: 25.0ms preprocess, 1374.8ms inference, 32.0ms postprocess per image at shape (1, 3, 640, 640)\n",
      "Results saved to \u001b[1mstatic\\output2\u001b[0m\n"
     ]
    }
   ],
   "source": [
    "from ultralytics import YOLO\n",
    "from PIL import Image\n",
    "import cv2\n",
    "\n",
    "# Load a pretrained YOLO model\n",
    "model = YOLO('yolov8l.pt')\n",
    "\n",
    "# Use PIL to open an image\n",
    "im1 = Image.open(\"profession.jpg\")\n",
    "\n",
    "# Perform object detection on the image using the model\n",
    "results = model.predict(source=im1, save=True, project='static', name='output')  # save plotted images with predictions\n",
    "\n",
    "# # Use cv2 to read an image\n",
    "# im2 = cv2.imread(\"path_to_another_image.jpg\")\n",
    "\n",
    "# # Perform object detection on the image using the model\n",
    "# results = model.predict(source=im2, save=True, save_txt=True)  # save predictions as labels\n"
   ]
  },
  {
   "cell_type": "code",
   "execution_count": 1,
   "id": "f4806116-cf29-4619-92b5-a88b49f6d326",
   "metadata": {},
   "outputs": [
    {
     "name": "stderr",
     "output_type": "stream",
     "text": [
      "C:\\Users\\arpit\\anaconda3\\envs\\yolo\\lib\\site-packages\\tqdm\\auto.py:21: TqdmWarning: IProgress not found. Please update jupyter and ipywidgets. See https://ipywidgets.readthedocs.io/en/stable/user_install.html\n",
      "  from .autonotebook import tqdm as notebook_tqdm\n"
     ]
    },
    {
     "name": "stdout",
     "output_type": "stream",
     "text": [
      " * Serving Flask app '__main__'\n",
      " * Debug mode: on\n"
     ]
    },
    {
     "name": "stderr",
     "output_type": "stream",
     "text": [
      "WARNING: This is a development server. Do not use it in a production deployment. Use a production WSGI server instead.\n",
      " * Running on http://127.0.0.1:5000\n",
      "Press CTRL+C to quit\n",
      " * Restarting with stat\n"
     ]
    },
    {
     "ename": "SystemExit",
     "evalue": "1",
     "output_type": "error",
     "traceback": [
      "An exception has occurred, use %tb to see the full traceback.\n",
      "\u001b[1;31mSystemExit\u001b[0m\u001b[1;31m:\u001b[0m 1\n"
     ]
    },
    {
     "name": "stderr",
     "output_type": "stream",
     "text": [
      "C:\\Users\\arpit\\anaconda3\\envs\\yolo\\lib\\site-packages\\IPython\\core\\interactiveshell.py:3561: UserWarning: To exit: use 'exit', 'quit', or Ctrl-D.\n",
      "  warn(\"To exit: use 'exit', 'quit', or Ctrl-D.\", stacklevel=1)\n"
     ]
    }
   ],
   "source": []
  },
  {
   "cell_type": "code",
   "execution_count": 65,
   "id": "c7ac8838-bf0b-4e23-aab8-655ab0149d5f",
   "metadata": {
    "tags": []
   },
   "outputs": [],
   "source": [
    "import os\n",
    "import shutil\n",
    "\n",
    "def delete_contents_in_folder(dir_path):\n",
    "    for filename in os.listdir(dir_path):\n",
    "        file_path = os.path.join(dir_path, filename)\n",
    "        try:\n",
    "            if os.path.isfile(file_path) or os.path.islink(file_path):\n",
    "                os.unlink(file_path)  # remove file or link\n",
    "            elif os.path.isdir(file_path):\n",
    "                shutil.rmtree(file_path)  # remove directory\n",
    "        except Exception as e:\n",
    "            print('Failed to delete %s. Reason: %s' % (file_path, e))\n",
    "\n",
    "# usage:\n",
    "delete_contents_in_folder('static/')\n",
    "# delete_contents_in_folder('uploads/')\n"
   ]
  },
  {
   "cell_type": "code",
   "execution_count": 63,
   "id": "96b70f50-49c9-408e-8824-cec8643e3733",
   "metadata": {},
   "outputs": [],
   "source": [
    "filename = \"birds.jpg\"\n",
    "im1 = Image.open(os.path.join(\"uploads\", filename))\n"
   ]
  },
  {
   "cell_type": "code",
   "execution_count": 64,
   "id": "9c989de8-51ae-45c9-9fe8-3295ff0300c5",
   "metadata": {
    "tags": []
   },
   "outputs": [
    {
     "name": "stderr",
     "output_type": "stream",
     "text": [
      "\n",
      "0: 448x640 8 birds, 1319.1ms\n",
      "Speed: 5.0ms preprocess, 1319.1ms inference, 132.7ms postprocess per image at shape (1, 3, 640, 640)\n",
      "Results saved to \u001b[1mstatic\\output2\u001b[0m\n"
     ]
    }
   ],
   "source": [
    "model = YOLO(\"yolov8l-seg.pt\")  # replace \"model.pt\" with your model's name\n",
    "results = model.predict(source=im1, save=True, project='static', name='output')\n"
   ]
  },
  {
   "cell_type": "code",
   "execution_count": 48,
   "id": "fa7a6145-9e02-494c-a715-da07d1cc84af",
   "metadata": {
    "tags": []
   },
   "outputs": [],
   "source": [
    "outputFilePath = os.path.join('static', 'output', filename)"
   ]
  },
  {
   "cell_type": "code",
   "execution_count": 49,
   "id": "318dc4b6-40ac-4045-b884-087ce2af7875",
   "metadata": {
    "tags": []
   },
   "outputs": [
    {
     "data": {
      "text/plain": [
       "'static/output/th.jpg'"
      ]
     },
     "execution_count": 49,
     "metadata": {},
     "output_type": "execute_result"
    }
   ],
   "source": [
    "outputFilePath.replace('\\\\', '/')"
   ]
  },
  {
   "cell_type": "code",
   "execution_count": 66,
   "id": "f9f712f8-27eb-4234-a074-9c171f2bf9ed",
   "metadata": {
    "tags": []
   },
   "outputs": [
    {
     "name": "stdout",
     "output_type": "stream",
     "text": [
      "966511fc2c78542e0e09d76c9012d3a7\n"
     ]
    }
   ],
   "source": [
    "import os\n",
    "print(os.urandom(16).hex())\n"
   ]
  },
  {
   "cell_type": "code",
   "execution_count": 67,
   "id": "af220440-24e3-4d9e-ba91-a0ea3a7132d9",
   "metadata": {
    "tags": []
   },
   "outputs": [
    {
     "name": "stdout",
     "output_type": "stream",
     "text": [
      "3.7.12 | packaged by conda-forge | (default, Oct 26 2021, 05:37:49) [MSC v.1916 64 bit (AMD64)]\n"
     ]
    }
   ],
   "source": [
    "import sys\n",
    "print(sys.version)\n"
   ]
  },
  {
   "cell_type": "code",
   "execution_count": 68,
   "id": "dd8546a8-6b02-4cad-ad68-995c5e8e4c9d",
   "metadata": {
    "tags": []
   },
   "outputs": [
    {
     "name": "stdout",
     "output_type": "stream",
     "text": [
      "3.7.12\n"
     ]
    }
   ],
   "source": [
    "import platform\n",
    "print(platform.python_version())\n"
   ]
  },
  {
   "cell_type": "code",
   "execution_count": 69,
   "id": "a15a36d5-5eeb-4fe5-bccc-8f53caf98ded",
   "metadata": {
    "tags": []
   },
   "outputs": [],
   "source": [
    "!pip freeze > requirements.txt\n"
   ]
  },
  {
   "cell_type": "code",
   "execution_count": 70,
   "id": "94d64199-aa2a-4e17-8d3c-16b88f992dde",
   "metadata": {
    "tags": []
   },
   "outputs": [
    {
     "name": "stdout",
     "output_type": "stream",
     "text": [
      "1.21.6\n"
     ]
    }
   ],
   "source": [
    "import numpy\n",
    "print(numpy.__version__)\n"
   ]
  },
  {
   "cell_type": "code",
   "execution_count": null,
   "id": "dcce84b0-8d9c-4a40-ba12-a6f88b20890e",
   "metadata": {},
   "outputs": [],
   "source": []
  }
 ],
 "metadata": {
  "kernelspec": {
   "display_name": "Python 3 (ipykernel)",
   "language": "python",
   "name": "python3"
  },
  "language_info": {
   "codemirror_mode": {
    "name": "ipython",
    "version": 3
   },
   "file_extension": ".py",
   "mimetype": "text/x-python",
   "name": "python",
   "nbconvert_exporter": "python",
   "pygments_lexer": "ipython3",
   "version": "3.7.12"
  }
 },
 "nbformat": 4,
 "nbformat_minor": 5
}
